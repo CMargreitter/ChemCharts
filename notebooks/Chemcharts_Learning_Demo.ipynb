{
 "cells": [
  {
   "cell_type": "markdown",
   "id": "respiratory-british",
   "metadata": {},
   "source": [
    "###### How to run this notebook (command-line)?"
   ]
  },
  {
   "cell_type": "raw",
   "id": "cardiovascular-bridge",
   "metadata": {},
   "source": [
    "Install the ReinventCommunity environment: conda env create -f environment.yml\n",
    "Activate the environment: conda activate ReinventCommunity\n",
    "Execute jupyter: jupyter notebook\n",
    "Copy the link to a browser"
   ]
  },
  {
   "cell_type": "markdown",
   "id": "utility-growing",
   "metadata": {},
   "source": [
    "# CHEMCHARTS 0.0: chemcharts learning demo"
   ]
  },
  {
   "cell_type": "code",
   "execution_count": null,
   "id": "hollow-palestinian",
   "metadata": {},
   "outputs": [],
   "source": [
    "Aim of chemcharts\n",
    "\n",
    "what it can do\n",
    "\n",
    "how to install"
   ]
  },
  {
   "cell_type": "code",
   "execution_count": null,
   "id": "governmental-average",
   "metadata": {},
   "outputs": [],
   "source": [
    "%load_ext autoreload\n",
    "%autoreload 2"
   ]
  },
  {
   "cell_type": "code",
   "execution_count": 8,
   "id": "still-photographer",
   "metadata": {},
   "outputs": [],
   "source": [
    "# load dependencies \n",
    "\n",
    "import rdkit\n",
    "from rdkit import Chem\n",
    "from rdkit import DataStructs\n",
    "from rdkit.Chem import MACCSkeys\n",
    "from rdkit.Chem import AllChem\n",
    "\n",
    "import collections\n",
    "from collections import defaultdict\n",
    "\n",
    "import matplotlib\n",
    "import matplotlib.pyplot as plt\n",
    "import matplotlib.gridspec as gridspec\n",
    "import matplotlib.tri as mtri\n",
    "from matplotlib import cm\n",
    "from matplotlib.ticker import MaxNLocator\n",
    "from matplotlib import pyplot\n",
    "from mpl_toolkits.mplot3d import Axes3D\n",
    "\n",
    "import math\n",
    "import statistics\n",
    "import csv\n",
    "import pandas as pd\n",
    "import umap\n",
    "import numpy as np\n",
    "import pylab\n",
    "import seaborn as sns\n",
    "import plotly.figure_factory as ff\n",
    "import plotly.graph_objects as go\n",
    "\n",
    "from scipy.spatial import Delaunay\n",
    "\n",
    "from sklearn.cluster import KMeans\n",
    "\n",
    "\n",
    "import argparse\n",
    "import sys\n",
    "import dill\n",
    "\n",
    "from chemcharts.core.container.chemdata import ChemData\n",
    "from chemcharts.core.container.fingerprint import *\n",
    "\n",
    "from chemcharts.core.functions.binning import Binning\n",
    "from chemcharts.core.functions.dimensional_reduction import DimensionalReduction\n",
    "from chemcharts.core.functions.clustering import Clustering\n",
    "from chemcharts.core.functions.filtering import Filtering\n",
    "\n",
    "from chemcharts.core.plots.hexag_plot import HexagonalPlot\n",
    "from chemcharts.core.plots.histogram_plot import HistogramPlot\n",
    "from chemcharts.core.plots.scatter_boxplot_plot import ScatterBoxplotPlot\n",
    "from chemcharts.core.plots.scatter_interactive import ScatterInteractivePlot\n",
    "from chemcharts.core.plots.scatter_static_plot import ScatterStaticPlot\n",
    "from chemcharts.core.plots.trisurf_interactive_plot import TrisurfInteractivePlot\n",
    "from chemcharts.core.plots.trisurf_static_plot import TrisurfStaticPlot\n",
    "\n",
    "from chemcharts.core.functions.io_functions import load_smiles\n",
    "\n",
    "from chemcharts.core.utils.enums import GeneratePlotsEnum\n",
    "from chemcharts.core.utils.enums import DataFittingEnum\n",
    "from chemcharts.core.utils.enums import PlottingEnum\n",
    "_GPE = GeneratePlotsEnum\n",
    "_DFE = DataFittingEnum\n",
    "_PE = PlottingEnum\n"
   ]
  },
  {
   "cell_type": "code",
   "execution_count": 12,
   "id": "exterior-boost",
   "metadata": {},
   "outputs": [],
   "source": [
    "import chemcharts as cc\n",
    "from chemcharts.core.container.chemdata import ChemData"
   ]
  },
  {
   "cell_type": "markdown",
   "id": "sixth-salmon",
   "metadata": {},
   "source": [
    "# LOAD DATA AND GENERATE COLUMNS_DIC"
   ]
  },
  {
   "cell_type": "code",
   "execution_count": 13,
   "id": "current-powell",
   "metadata": {},
   "outputs": [],
   "source": [
    "# load data and generate an object for each molecule\n",
    "loaded_data = pd.read_csv(\"../data/scaffold_memory.csv\")\n",
    "scaffold_smiles = list(loaded_data[\"SMILES\"])\n",
    "scaffold_scores = list(loaded_data[\"total_score\"])\n",
    "\n",
    "loaded_data = pd.read_csv(path)\n",
    "smiles = Smiles(list(loaded_data[smiles_column]))\n",
    "scores = list(loaded_data[scores_column])\n",
    "epoch = list(loaded_data[epochs_column])\n"
   ]
  },
  {
   "cell_type": "markdown",
   "id": "bearing-warehouse",
   "metadata": {},
   "source": [
    "# GENERATE INSTANCES OF SMILES AND DATA_SET CLASSES"
   ]
  },
  {
   "cell_type": "code",
   "execution_count": 15,
   "id": "aquatic-wisdom",
   "metadata": {},
   "outputs": [
    {
     "ename": "AttributeError",
     "evalue": "module 'chemcharts.core' has no attribute 'smiles'",
     "output_type": "error",
     "traceback": [
      "\u001b[0;31m---------------------------------------------------------------------------\u001b[0m",
      "\u001b[0;31mAttributeError\u001b[0m                            Traceback (most recent call last)",
      "\u001b[0;32m<ipython-input-15-9f18b1c3b4bc>\u001b[0m in \u001b[0;36m<module>\u001b[0;34m\u001b[0m\n\u001b[1;32m      1\u001b[0m \u001b[0;31m# generate an instance of the data_set class and set to COX2_set variable\u001b[0m\u001b[0;34m\u001b[0m\u001b[0;34m\u001b[0m\u001b[0;34m\u001b[0m\u001b[0m\n\u001b[0;32m----> 2\u001b[0;31m \u001b[0mscaffold_set\u001b[0m \u001b[0;34m=\u001b[0m \u001b[0mChemData\u001b[0m\u001b[0;34m(\u001b[0m\u001b[0mname\u001b[0m \u001b[0;34m=\u001b[0m \u001b[0;34m\"Scaffold\"\u001b[0m\u001b[0;34m,\u001b[0m \u001b[0msmiles_obj\u001b[0m \u001b[0;34m=\u001b[0m \u001b[0mcc\u001b[0m\u001b[0;34m.\u001b[0m\u001b[0mcore\u001b[0m\u001b[0;34m.\u001b[0m\u001b[0msmiles\u001b[0m\u001b[0;34m.\u001b[0m\u001b[0mSmiles\u001b[0m\u001b[0;34m(\u001b[0m\u001b[0mscaffold_smiles\u001b[0m\u001b[0;34m)\u001b[0m\u001b[0;34m,\u001b[0m \u001b[0mtotal_score\u001b[0m \u001b[0;34m=\u001b[0m \u001b[0mscaffold_scores\u001b[0m\u001b[0;34m)\u001b[0m\u001b[0;34m\u001b[0m\u001b[0;34m\u001b[0m\u001b[0m\n\u001b[0m\u001b[1;32m      3\u001b[0m \u001b[0;34m\u001b[0m\u001b[0m\n\u001b[1;32m      4\u001b[0m \u001b[0;31m# new:\u001b[0m\u001b[0;34m\u001b[0m\u001b[0;34m\u001b[0m\u001b[0;34m\u001b[0m\u001b[0m\n\u001b[1;32m      5\u001b[0m \u001b[0;31m#scaffold_set = cc.core.dataset.Data_Set()\u001b[0m\u001b[0;34m\u001b[0m\u001b[0;34m\u001b[0m\u001b[0;34m\u001b[0m\u001b[0m\n",
      "\u001b[0;31mAttributeError\u001b[0m: module 'chemcharts.core' has no attribute 'smiles'"
     ]
    }
   ],
   "source": [
    "# generate an instance of the data_set class and set to COX2_set variable\n",
    "scaffold_set = ChemData(name = \"Scaffold\", smiles_obj = cc.core.smiles.Smiles(scaffold_smiles), total_score = scaffold_scores)\n",
    "\n",
    "# new:\n",
    "#scaffold_set = cc.core.dataset.Data_Set()\n",
    "\n"
   ]
  },
  {
   "cell_type": "code",
   "execution_count": null,
   "id": "meaning-lodge",
   "metadata": {},
   "outputs": [],
   "source": [
    "#print(scaffold_set.smiles_obj.smiles_list)\n",
    "#print(type(scaffold_set.total_score[0]))"
   ]
  },
  {
   "cell_type": "markdown",
   "id": "missing-wedding",
   "metadata": {},
   "source": [
    "# ADD FINGERPRINTS DEFINITION AND CALL"
   ]
  },
  {
   "cell_type": "code",
   "execution_count": null,
   "id": "saved-telescope",
   "metadata": {},
   "outputs": [],
   "source": [
    "# define function to add fingerprints to data_set\n",
    "def add_fingerprints(data_set_obj):\n",
    "    fp_gen = cc.core.fingerprint.FingerprintGenerator(data_set_obj.smiles_obj.smiles_list)\n",
    "    data_set_obj.add_fingerprint(fp_gen.generate_fingerprints())\n",
    "    data_set_obj.add_fingerprint(fp_gen.generate_fingerprints_morgan())\n",
    "    data_set_obj.add_fingerprint(fp_gen.generate_fingerprints_maccs())\n",
    "    \n",
    "    \n",
    "# call function to add fingerprints to instances of data_set class\n",
    "add_fingerprints(scaffold_set)"
   ]
  },
  {
   "cell_type": "code",
   "execution_count": null,
   "id": "piano-occasion",
   "metadata": {},
   "outputs": [],
   "source": [
    "# print length of fingerprint_lists\n",
    "\n",
    "#print(len(scaffold_set.fingerprint_lists))\n"
   ]
  },
  {
   "cell_type": "markdown",
   "id": "varying-sydney",
   "metadata": {},
   "source": [
    "# DIMENSIONAL REDUCTION DEFINITION"
   ]
  },
  {
   "cell_type": "code",
   "execution_count": null,
   "id": "mobile-waste",
   "metadata": {},
   "outputs": [],
   "source": [
    "# generating array list of fingerprint_lists\n",
    "def generating_array_list(fingerprint_obj):\n",
    "    array_list = []\n",
    "    for fingerprint in fingerprint_obj:\n",
    "        array = np.array(fingerprint)\n",
    "        array_list.append(array)\n",
    "    return array_list\n",
    "\n",
    "\n",
    "def dimensional_reduction(fingerprint_obj):\n",
    "    np.random.seed(42)\n",
    "   \n",
    "    array_list = generating_array_list(fingerprint_obj)\n",
    "    \n",
    "    reducer = umap.UMAP()\n",
    "    embedding = cc.core.embedding.Embedding(reducer.fit_transform(array_list))\n",
    "    \n",
    "    return embedding\n",
    "\n",
    "\n",
    "def calculate_embedding(data_set_obj):\n",
    "    for fingerprint_obj in data_set_obj.fingerprint_lists:\n",
    "        array_list = generating_array_list(fingerprint_obj)\n",
    "        embedding = dimensional_reduction(array_list)\n",
    "        data_set_obj.add_embedding_list(embedding)\n",
    "\n"
   ]
  },
  {
   "cell_type": "code",
   "execution_count": null,
   "id": "strategic-denver",
   "metadata": {},
   "outputs": [],
   "source": [
    "# call function to add embedding to instances of data_set class\n",
    "calculate_embedding(scaffold_set)\n",
    "\n"
   ]
  },
  {
   "cell_type": "markdown",
   "id": "electric-saturn",
   "metadata": {},
   "source": [
    "# PLOT DEFINITION"
   ]
  },
  {
   "cell_type": "code",
   "execution_count": null,
   "id": "dynamic-eleven",
   "metadata": {},
   "outputs": [],
   "source": [
    "class BasePlot:\n",
    "    def __init__(self, scaffold_set):\n",
    "        self.scores = [float(score) for score in scaffold_set.total_score]\n",
    "        self.embedding_list = scaffold_set.embedding_lists\n",
    "    \n",
    "    @classmethod\n",
    "    def filter_range(cls, embedding, range_x, range_y, scores):\n",
    "        embedding_df = pd.DataFrame({\"UMAP_1\": embedding.np_array[:,0], \"UMAP_2\": embedding.np_array[:,1], \"Scores\": scores})\n",
    "    \n",
    "        df = embedding_df[embedding_df['UMAP_1'].between(range_x[0], range_x[1])]\n",
    "        df = df[df['UMAP_2'].between(range_y[0], range_y[1])]\n",
    "    \n",
    "        filtered_array = df.to_numpy()\n",
    "        filtered_embedding_data = cc.core.embedding.Embedding(filtered_array)\n",
    "        filtered_scores = list(df[\"Scores\"])\n",
    "        filtered_df = df\n",
    "   \n",
    "        return filtered_embedding_data, filtered_array, filtered_scores, filtered_df \n",
    "    \n",
    "    @classmethod\n",
    "    def clustering(cls, embedding, scores, k):\n",
    "    \n",
    "        assert len(embedding) >= k\n",
    "    \n",
    "        kmeans = KMeans(n_clusters=k, random_state=0).fit(embedding)\n",
    "        x_cl = kmeans.cluster_centers_[:,0]\n",
    "        y_cl = kmeans.cluster_centers_[:,1]\n",
    "    \n",
    "        def generate_score_list(scores):\n",
    "            score_list = []\n",
    "            for cluster_idx in range(len(kmeans.cluster_centers_)):\n",
    "                tmp = []\n",
    "                for label_idx in range(len(kmeans.labels_)):\n",
    "                    if kmeans.labels_[label_idx] == cluster_idx:\n",
    "                        tmp.append(scores[label_idx])\n",
    "                score_list.append(statistics.median(tmp))\n",
    "            return score_list\n",
    "    \n",
    "        z_cl = generate_score_list(scores)\n",
    "    \n",
    "        return x_cl, y_cl, z_cl    \n",
    "\n",
    "    \n",
    "    \n",
    "class HexagonalPlot(BasePlot):\n",
    "    def __init__(self, scaffold_set):\n",
    "        BasePlot.__init__(self, scaffold_set)\n",
    "        \n",
    "    def plot(self):\n",
    "        for scaffold_index in range(len(self.embedding_list)):\n",
    "            embedding = self.embedding_list[scaffold_index]\n",
    "               \n",
    "            filtered_embedding_data, filtered_array, filtered_scores, filtered_df = self.filter_range(embedding, (-10, 10), (-10, 6), self.scores)\n",
    "        \n",
    "            # with clustering and filtering\n",
    "            k = 200\n",
    "            #x_cl, y_cl, z_cl = clustering(filtered_array, filtered_scores, k)  \n",
    "        \n",
    "            # without clustering but with filtering\n",
    "            #x_cl, y_cl, z_cl = filtered_array[:,0], filtered_array[:,1], filtered_scores\n",
    "        \n",
    "            # without clustering and filtering\n",
    "            x_cl, y_cl, z_cl = embedding.np_array[:,0], embedding.np_array[:,1], self.scores\n",
    "        \n",
    "            sns.jointplot(x=x_cl, y=y_cl, kind=\"hex\", color=\"#4CB391\")\n",
    "       \n",
    "    \n",
    "class ScatterBoxplotPlot(BasePlot):\n",
    "    def __init__(self, scaffold_set):\n",
    "        BasePlot.__init__(self, scaffold_set)\n",
    "        \n",
    "    def plot(self):\n",
    "        for scaffold_index in range(len(self.embedding_list)):\n",
    "            embedding = self.embedding_list[scaffold_index]\n",
    "            \n",
    "            k = 100\n",
    "            x_cl,y_cl,z_cl = self.clustering(embedding.np_array, self.scores, k)\n",
    "        \n",
    "            # with clustering\n",
    "            scatter_df = pd.DataFrame({\"UMAP_1\": x_cl, \"UMAP_2\":y_cl, \"z\":z_cl})\n",
    "        \n",
    "            # without clustering\n",
    "            #scatter_df = pd.DataFrame(\"UMAP_1\": embedding.np_array[:,0], \"UMAP_2\":embedding.np_array[:,1], \"z\":self.scores)\n",
    "        \n",
    "            sns.set_context(\"talk\", font_scale=0.8)\n",
    "            plt.figure(figsize=(17,17))\n",
    "            g = sns.JointGrid(data=scatter_df, \n",
    "                              x=\"UMAP_1\",\n",
    "                              y=\"UMAP_2\")\n",
    "        \n",
    "            g.plot_joint(sns.scatterplot)\n",
    "            g.plot_marginals(sns.boxplot)\n",
    "            plt.savefig(\"Scatter_Boxplot_ChemChar_Plot.png\",\n",
    "                        format='png',dpi=150)\n",
    "    \n",
    "    \n",
    "    \n",
    "       \n",
    "class TrisurfPlot(BasePlot):\n",
    "    def __init__(self, scaffold_set):\n",
    "        BasePlot.__init__(self, scaffold_set)\n",
    "        \n",
    "    \n",
    "    def plot(self):\n",
    "        for scaffold_index in range(len(self.embedding_list)):\n",
    "            embedding = self.embedding_list[scaffold_index]\n",
    "                \n",
    "            filtered_embedding_data, filtered_array, filtered_scores, filtered_df = self.filter_range(embedding, (-10, 10), (-10, 6), self.scores)\n",
    "        \n",
    "            k = 20\n",
    "            x_cl, y_cl, z_cl = self.clustering(filtered_array, filtered_scores, k)\n",
    "        \n",
    "            tri = Delaunay(np.array([x_cl,y_cl]).T)\n",
    "            simplices = tri.simplices\n",
    "        \n",
    "            fig = ff.create_trisurf(x=x_cl, y=y_cl, z=z_cl,\n",
    "                         colormap=\"Portland\",\n",
    "                         simplices=simplices,\n",
    "                         title=\"Trisurf ChemCharts Plot\")\n",
    " \n",
    "        fig.show()\n",
    "    \n",
    "    \n",
    "class ScatterPlot(BasePlot):\n",
    "    def __init__(self, scaffold_set):\n",
    "        BasePlot.__init__(self, scaffold_set)\n",
    "        \n",
    "    def plot(self): \n",
    "        fig = plt.figure()\n",
    "        ax = fig.add_subplot(projection='3d')\n",
    "        \n",
    "        for scaffold_index in range(len(self.embedding_list)):\n",
    "            embedding = self.embedding_list[scaffold_index]\n",
    "        \n",
    "            area = np.pi*1\n",
    "            plt.gcf().set_size_inches((15, 15))\n",
    "    \n",
    "            ax.scatter(embedding.np_array[:,0], embedding.np_array[:,1], zs=self.scores, s=1)\n",
    "        \n",
    "            ax.set_title(\"Scatter ChemCharts Plot\")\n",
    "            ax.set_xlabel('UMAP 1')\n",
    "            ax.set_ylabel('UMAP 2')\n",
    "            ax.set_zlabel('Scores')\n",
    "        \n",
    "            plt.savefig(\"Scatter_ChemChar_Plot.png\") \n",
    "    \n",
    "        fig.show\n",
    "   "
   ]
  },
  {
   "cell_type": "code",
   "execution_count": 6,
   "id": "strategic-manufacturer",
   "metadata": {},
   "outputs": [
    {
     "ename": "NameError",
     "evalue": "name 'HexagonalPlot' is not defined",
     "output_type": "error",
     "traceback": [
      "\u001b[0;31m---------------------------------------------------------------------------\u001b[0m",
      "\u001b[0;31mNameError\u001b[0m                                 Traceback (most recent call last)",
      "\u001b[0;32m<ipython-input-6-90f3c0f791e2>\u001b[0m in \u001b[0;36m<module>\u001b[0;34m\u001b[0m\n\u001b[0;32m----> 1\u001b[0;31m \u001b[0mhexagonal_test_plot\u001b[0m \u001b[0;34m=\u001b[0m \u001b[0mHexagonalPlot\u001b[0m\u001b[0;34m(\u001b[0m\u001b[0mscaffold_set\u001b[0m\u001b[0;34m)\u001b[0m\u001b[0;34m\u001b[0m\u001b[0;34m\u001b[0m\u001b[0m\n\u001b[0m\u001b[1;32m      2\u001b[0m \u001b[0mscatter_2d_boxplot_test_plot\u001b[0m \u001b[0;34m=\u001b[0m \u001b[0mScatterBoxplotPlot\u001b[0m\u001b[0;34m(\u001b[0m\u001b[0mscaffold_set\u001b[0m\u001b[0;34m)\u001b[0m\u001b[0;34m\u001b[0m\u001b[0;34m\u001b[0m\u001b[0m\n\u001b[1;32m      3\u001b[0m \u001b[0;34m\u001b[0m\u001b[0m\n\u001b[1;32m      4\u001b[0m \u001b[0mtrisurf_test_plot\u001b[0m \u001b[0;34m=\u001b[0m \u001b[0mTrisurfPlot\u001b[0m\u001b[0;34m(\u001b[0m\u001b[0mscaffold_set\u001b[0m\u001b[0;34m)\u001b[0m\u001b[0;34m\u001b[0m\u001b[0;34m\u001b[0m\u001b[0m\n\u001b[1;32m      5\u001b[0m \u001b[0mscatter_3d_test_plot\u001b[0m \u001b[0;34m=\u001b[0m \u001b[0mScatterPlot\u001b[0m\u001b[0;34m(\u001b[0m\u001b[0mscaffold_set\u001b[0m\u001b[0;34m)\u001b[0m\u001b[0;34m\u001b[0m\u001b[0;34m\u001b[0m\u001b[0m\n",
      "\u001b[0;31mNameError\u001b[0m: name 'HexagonalPlot' is not defined"
     ]
    }
   ],
   "source": [
    "hexagonal_test_plot = HexagonalPlot(scaffold_set)\n",
    "scatter_2d_boxplot_test_plot = ScatterBoxplotPlot(scaffold_set)\n",
    "\n",
    "trisurf_test_plot = TrisurfPlot(scaffold_set)\n",
    "scatter_3d_test_plot = ScatterPlot(scaffold_set)\n"
   ]
  },
  {
   "cell_type": "markdown",
   "id": "unlike-insertion",
   "metadata": {},
   "source": [
    "# PLOT GENERATION  "
   ]
  },
  {
   "cell_type": "code",
   "execution_count": 4,
   "id": "devoted-arrangement",
   "metadata": {},
   "outputs": [
    {
     "ename": "NameError",
     "evalue": "name 'hexagonal_test_plot' is not defined",
     "output_type": "error",
     "traceback": [
      "\u001b[0;31m---------------------------------------------------------------------------\u001b[0m",
      "\u001b[0;31mNameError\u001b[0m                                 Traceback (most recent call last)",
      "\u001b[0;32m<ipython-input-4-49e0fa366547>\u001b[0m in \u001b[0;36m<module>\u001b[0;34m\u001b[0m\n\u001b[0;32m----> 1\u001b[0;31m \u001b[0mhexagonal_test_plot\u001b[0m\u001b[0;34m.\u001b[0m\u001b[0mplot\u001b[0m\u001b[0;34m(\u001b[0m\u001b[0;34m)\u001b[0m\u001b[0;34m\u001b[0m\u001b[0;34m\u001b[0m\u001b[0m\n\u001b[0m",
      "\u001b[0;31mNameError\u001b[0m: name 'hexagonal_test_plot' is not defined"
     ]
    }
   ],
   "source": [
    "hexagonal_test_plot.plot()"
   ]
  },
  {
   "cell_type": "code",
   "execution_count": 5,
   "id": "celtic-classroom",
   "metadata": {},
   "outputs": [
    {
     "ename": "NameError",
     "evalue": "name 'scatter_2d_boxplot_test_plot' is not defined",
     "output_type": "error",
     "traceback": [
      "\u001b[0;31m---------------------------------------------------------------------------\u001b[0m",
      "\u001b[0;31mNameError\u001b[0m                                 Traceback (most recent call last)",
      "\u001b[0;32m<ipython-input-5-c68bec9deab3>\u001b[0m in \u001b[0;36m<module>\u001b[0;34m\u001b[0m\n\u001b[0;32m----> 1\u001b[0;31m \u001b[0mscatter_2d_boxplot_test_plot\u001b[0m\u001b[0;34m.\u001b[0m\u001b[0mplot\u001b[0m\u001b[0;34m(\u001b[0m\u001b[0;34m)\u001b[0m\u001b[0;34m\u001b[0m\u001b[0;34m\u001b[0m\u001b[0m\n\u001b[0m",
      "\u001b[0;31mNameError\u001b[0m: name 'scatter_2d_boxplot_test_plot' is not defined"
     ]
    }
   ],
   "source": [
    "scatter_2d_boxplot_test_plot.plot()"
   ]
  },
  {
   "cell_type": "code",
   "execution_count": null,
   "id": "ordered-omaha",
   "metadata": {},
   "outputs": [],
   "source": [
    "trisurf_test_plot.plot()"
   ]
  },
  {
   "cell_type": "code",
   "execution_count": null,
   "id": "relative-ballot",
   "metadata": {},
   "outputs": [],
   "source": [
    "scatter_3d_test_plot.plot()"
   ]
  }
 ],
 "metadata": {
  "kernelspec": {
   "display_name": "Python 3",
   "language": "python",
   "name": "python3"
  },
  "language_info": {
   "codemirror_mode": {
    "name": "ipython",
    "version": 3
   },
   "file_extension": ".py",
   "mimetype": "text/x-python",
   "name": "python",
   "nbconvert_exporter": "python",
   "pygments_lexer": "ipython3",
   "version": "3.7.9"
  }
 },
 "nbformat": 4,
 "nbformat_minor": 5
}
