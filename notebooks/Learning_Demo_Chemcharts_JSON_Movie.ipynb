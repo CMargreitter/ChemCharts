{
 "cells": [
  {
   "cell_type": "markdown",
   "id": "hourly-hostel",
   "metadata": {},
   "source": [
    "# ChemCharts JSON Movie"
   ]
  },
  {
   "cell_type": "markdown",
   "id": "monetary-stranger",
   "metadata": {},
   "source": [
    "## PREPARATION \n",
    "Bevor using this notebook dependencies need to be loaded and paths updated."
   ]
  },
  {
   "cell_type": "code",
   "execution_count": 1,
   "id": "possible-graham",
   "metadata": {},
   "outputs": [],
   "source": [
    "# load dependencies\n",
    "import os\n",
    "import json\n",
    "import tempfile\n",
    "from IPython.display import Image\n",
    "\n",
    "# change me\n",
    "chemcharts_dir = os.path.expanduser(\"~/Documents/Projects/ChemCharts\") # set project folder on your device\n",
    "chemcharts_env = os.path.expanduser(\"~/miniconda3/envs/chemcharts\")    # set environment path on your device\n",
    "output_dir = os.path.expanduser(\"~/Desktop/chemcharts_json_test\")      # set output path on your device\n",
    "\n",
    "# do NOT change me\n",
    "try: ipynb_path                                                   \n",
    "except NameError: ipynb_path = os.getcwd()                             # sets root path\n",
    "\n",
    "try:\n",
    "    os.mkdir(output_dir)                                               # checks whether there is an output folder \n",
    "except FileExistsError:                                                # and generates one if there isn't one already available\n",
    "    pass\n"
   ]
  },
  {
   "cell_type": "markdown",
   "id": "written-liabilities",
   "metadata": {},
   "source": [
    "## INITIALIZATION \n",
    "Continue with initializing a configuration dictionary."
   ]
  },
  {
   "cell_type": "code",
   "execution_count": 2,
   "id": "boolean-trade",
   "metadata": {},
   "outputs": [],
   "source": [
    "\n",
    "conf={\"chemcharts\": {}}\n"
   ]
  },
  {
   "cell_type": "markdown",
   "id": "center-assault",
   "metadata": {},
   "source": [
    "### Header \n",
    "Add a header if needed."
   ]
  },
  {
   "cell_type": "code",
   "execution_count": 3,
   "id": "periodic-running",
   "metadata": {},
   "outputs": [],
   "source": [
    "\n",
    "conf={\n",
    "  \"chemcharts\": {\n",
    "    \"header\": {}                                                        # leave empty if not needed\n",
    "  }\n",
    "}\n"
   ]
  },
  {
   "cell_type": "markdown",
   "id": "departmental-suicide",
   "metadata": {},
   "source": [
    "## EXECUTION\n",
    "### Data loading\n",
    "Now you can start adding tasks to the config file. Data loading is the obligatory first step."
   ]
  },
  {
   "cell_type": "code",
   "execution_count": 4,
   "id": "massive-arena",
   "metadata": {},
   "outputs": [],
   "source": [
    "\n",
    "conf[\"chemcharts\"][\"execution\"] = [\n",
    "      {\"task\":  \"data_loading\",\n",
    "       \"input\":  os.path.join(chemcharts_dir, \"data/scaffold_memory.csv\"),\n",
    "       \"input_type\":  \"csv\",\n",
    "       \"columns\":  {\n",
    "                     \"smiles_column\": \"SMILES\",\n",
    "                     \"scores_column\": \"total_score\",\n",
    "                     \"epochs_column\": \"Step\"\n",
    "                    }\n",
    "      }]\n",
    "    "
   ]
  },
  {
   "cell_type": "markdown",
   "id": "loose-sleep",
   "metadata": {},
   "source": [
    "### Generate fingerprints\n",
    "Once the data is loaded, we need to translate the chemical strings (SMILES) into fingerprints. There are a couple of different options, here we will use MACCS."
   ]
  },
  {
   "cell_type": "code",
   "execution_count": 5,
   "id": "supposed-privilege",
   "metadata": {},
   "outputs": [],
   "source": [
    "\n",
    "conf[\"chemcharts\"][\"execution\"].append(\n",
    "      {\"task\":  \"generate_fingerprints\",\n",
    "       \"type\":  \"maccs\",                                                # you can choose between standard, morgan and maccs\n",
    "       \"parameters\":  {\"useFeatures\": True}                             # with the other two fingerprints there are no parameters\n",
    "      })\n"
   ]
  },
  {
   "cell_type": "markdown",
   "id": "published-consortium",
   "metadata": {},
   "source": [
    "### Dimensional reduction\n",
    "Reduces the number of features in your dataset with an UMP algorithm."
   ]
  },
  {
   "cell_type": "code",
   "execution_count": 6,
   "id": "directed-rhythm",
   "metadata": {},
   "outputs": [],
   "source": [
    "\n",
    "conf[\"chemcharts\"][\"execution\"].append(\n",
    "      {\"task\":  \"dimensional_reduction\",\n",
    "       \"type\": \"UMAP\",\n",
    "       \"parameters\":  {}\n",
    "      })\n"
   ]
  },
  {
   "cell_type": "markdown",
   "id": "humanitarian-colleague",
   "metadata": {},
   "source": [
    "### Optional: Filtering\n",
    "You can define a filter range to reduce the input to the data within the range."
   ]
  },
  {
   "cell_type": "code",
   "execution_count": 7,
   "id": "egyptian-black",
   "metadata": {},
   "outputs": [],
   "source": [
    "\n",
    "conf[\"chemcharts\"][\"execution\"].append(\n",
    "      {\"task\":  \"filtering_data\",\n",
    "       \"type\": \"filtering\",\n",
    "       \"parameters\":  {\"range_dim1\": [-100, 100],                       # set range for UMAP_1\n",
    "                       \"range_dim2\": [-100, 100]}                       # set range for UMAP_2\n",
    "      })\n"
   ]
  },
  {
   "cell_type": "markdown",
   "id": "bibliographic-sentence",
   "metadata": {},
   "source": [
    "### Optional: Clustering\n",
    "You can further prepare the data by clustering it with KMeans"
   ]
  },
  {
   "cell_type": "code",
   "execution_count": 8,
   "id": "grateful-platinum",
   "metadata": {},
   "outputs": [],
   "source": [
    "\n",
    "conf[\"chemcharts\"][\"execution\"].append(\n",
    "      {\"task\":  \"clustering_data\",\n",
    "       \"type\": \"KMmeans\",\n",
    "       \"parameters\":  {\"k\": 10}                                         # set the number of desired KMeans clusters\n",
    "      })\n"
   ]
  },
  {
   "cell_type": "markdown",
   "id": "velvet-delhi",
   "metadata": {},
   "source": [
    "### Optional: Binning\n",
    "You might also want to bin the scores and return their median. Binned scores will then be plotted in a histogram plot."
   ]
  },
  {
   "cell_type": "code",
   "execution_count": 9,
   "id": "encouraging-result",
   "metadata": {},
   "outputs": [],
   "source": [
    "\n",
    "conf[\"chemcharts\"][\"execution\"].append(\n",
    "      {\"task\":  \"binning_scores\",\n",
    "       \"type\": \"binning\",\n",
    "       \"parameters\":  {\"num_bins\": 4}                                    # set the number of desired bins\n",
    "      })\n"
   ]
  },
  {
   "cell_type": "markdown",
   "id": "neither-rescue",
   "metadata": {},
   "source": [
    "### Write-Out\n",
    "When using large data sets it is advisable to write out the updated data and use the thereby generated pkl file as input from now onwards (potentially very time saving)."
   ]
  },
  {
   "cell_type": "code",
   "execution_count": 10,
   "id": "anticipated-legislature",
   "metadata": {},
   "outputs": [
    {
     "name": "stdout",
     "output_type": "stream",
     "text": [
      "Task data_loading completed.\n",
      "Task generate_fingerprints completed.\n",
      "Task dimensional_reduction completed.\n",
      "Task filtering_data completed.\n",
      "Task clustering_data completed.\n",
      "Task binning_scores completed.\n",
      "Task write_out completed.\n"
     ]
    }
   ],
   "source": [
    "\n",
    "# write-out of data into a pkl file\n",
    "conf[\"chemcharts\"][\"execution\"].append({\n",
    "        \"task\": \"write_out\",\n",
    "        \"format\": \"pkl\",\n",
    "        \"path\": os.path.join(output_dir, \"simple_movie_test.pkl\")        # choose loaction for \".pkl\" file\n",
    "      })\n",
    "\n",
    "# write-out of configuration file\n",
    "conf_preprocess_JSON_path = os.path.join(output_dir, \"chemcharts_preprocess_data.json\")\n",
    "with open(conf_preprocess_JSON_path, 'w') as f:\n",
    "    json.dump(conf, f, indent=4, sort_keys=True)\n",
    "    \n",
    "#execution\n",
    "!{chemcharts_env}/bin/python {chemcharts_dir}/chemcharts_json.py -conf {conf_preprocess_JSON_path}\n"
   ]
  },
  {
   "cell_type": "markdown",
   "id": "apparent-arrangement",
   "metadata": {},
   "source": [
    "## MOVIE GENERATION\n",
    "Once the updated data is saved in a pkl file you can start generating various plots.\n",
    "\n",
    "### Example: Movie generation (gif)\n",
    "Here, you see instructions how to generate a hexagonal movie in gif format. ChemCharts can also generate mp4 movies but as this format is currently not displayable in the notebook please access the movie on your device directly."
   ]
  },
  {
   "cell_type": "code",
   "execution_count": null,
   "id": "patient-stuart",
   "metadata": {},
   "outputs": [],
   "source": [
    "\n",
    "%%capture captured_std_stream --no-stdout\n",
    "%%capture captured_err_stream --no-stderr\n",
    "\n",
    "# set output path including file name \n",
    "hexagonal_movie_path_gif = os.path.join(output_dir, \"hexagonal_movie\", \"hexagonal_movie.gif\")\n",
    "\n",
    "# generates a hexagonal and histogram plot\n",
    "conf={\n",
    "  \"chemcharts\": {\n",
    "    \"header\": {},\n",
    "    \"execution\": [\n",
    "      {\"task\":  \"data_loading\",\n",
    "       \"input\":  [os.path.join(output_dir, \"simple_movie_test.pkl\")],\n",
    "       \"input_type\":  \"pkl\"\n",
    "      },\n",
    "      {\"task\": \"generate_movie\",\n",
    "       \"type\": \"hexagonal_plot\",                                              # choose plot type (here: Hexagonal)\n",
    "       \"parameters\":  {},                                  \n",
    "       \"settings\": {\"movie_path\": hexagonal_movie_path_gif}           \n",
    "      }\n",
    "    ]\n",
    "  }\n",
    "}\n",
    "\n",
    "# write-out of configuration file\n",
    "configuration_JSON_path = os.path.join(output_dir, \"chemcharts_config_movies.json\")\n",
    "with open(configuration_JSON_path, 'w') as f:\n",
    "    json.dump(conf, f, indent=4, sort_keys=True)\n",
    "    \n",
    "#execution\n",
    "!{chemcharts_env}/bin/python {chemcharts_dir}/chemcharts_json.py -conf {configuration_JSON_path}\n",
    "\n",
    "# display movie\n",
    "Image(filename=hexagonal_movie_path_gif, width=600, height=300)                # with width and height you can alternate the displayed image size     \n"
   ]
  },
  {
   "cell_type": "markdown",
   "id": "original-basket",
   "metadata": {},
   "source": [
    "### Example: Movie generation with contour (gif)\n",
    "If you want to highlight the current feature generation aktivate the contour function."
   ]
  },
  {
   "cell_type": "code",
   "execution_count": 14,
   "id": "celtic-mechanics",
   "metadata": {},
   "outputs": [],
   "source": [
    "\n",
    "%%capture captured_std_stream --no-stdout\n",
    "%%capture captured_err_stream --no-stderr\n",
    "\n",
    "# set output path including file name \n",
    "hexagonal_contour_movie_path_gif = os.path.join(output_dir, \"hexagonal_contour_movie\", \"hexagonal_contour_movie.gif\")  \n",
    "\n",
    "# plot generation with defined xlim and ylim\n",
    "conf={\n",
    "  \"chemcharts\": {\n",
    "    \"header\": {},\n",
    "    \"execution\": [\n",
    "      {\"task\":  \"data_loading\",\n",
    "       \"input\":  [os.path.join(output_dir, \"simple_movie_test.pkl\")],\n",
    "       \"input_type\":  \"pkl\"\n",
    "      },  \n",
    "      {\"task\": \"generate_movie\",\n",
    "       \"type\": \"hexagonal_plot\",                                                     # choose plot type (here: Hexagonal)\n",
    "       \"parameters\": {\"use_current_epoch\": True},                                  \n",
    "       \"settings\": {\"movie_path\": hexagonal_contour_movie_path_gif} \n",
    "      }\n",
    "    ]\n",
    "  }\n",
    "}\n",
    "\n",
    "# write-out of configuration file\n",
    "configuration_JSON_path = os.path.join(output_dir, \"chemcharts_config_movies.json\")\n",
    "with open(configuration_JSON_path, 'w') as f:\n",
    "    json.dump(conf, f, indent=4, sort_keys=True)\n",
    "    \n",
    "#execution\n",
    "!{chemcharts_env}/bin/python {chemcharts_dir}/chemcharts_json.py -conf {configuration_JSON_path}\n",
    "\n",
    "# display movie\n",
    "Image(filename=hexagonal_contour_movie_path_gif, width=600, height=300)                # with width and height you can alternate the displayed image size     \n"
   ]
  },
  {
   "cell_type": "markdown",
   "id": "friendly-gibson",
   "metadata": {},
   "source": [
    "### Example: Multiple movie generation (gif)\n",
    "You can also generate multiple movies at once."
   ]
  },
  {
   "cell_type": "code",
   "execution_count": null,
   "id": "collectible-beach",
   "metadata": {},
   "outputs": [],
   "source": [
    "\n",
    "%%capture captured_std_stream --no-stdout\n",
    "%%capture captured_err_stream --no-stderr\n",
    "\n",
    "# set output paths including file name \n",
    "hexagonal_movie_path_gif = os.path.join(output_dir, \"hexagonal_movie\", \"hexagonal_movie.gif\")\n",
    "scatter_boxplot_movie_path_gif = os.path.join(output_dir, \"scatter_boxplot_movie\", \"scatter_boxplot_movie.gif\")\n",
    "\n",
    "# generates a hexagonal and histogram plot\n",
    "conf={\n",
    "  \"chemcharts\": {\n",
    "    \"header\": {},\n",
    "    \"execution\": [\n",
    "      {\"task\":  \"data_loading\",\n",
    "       \"input\":  [os.path.join(output_dir, \"simple_movie_test.pkl\")],\n",
    "       \"input_type\":  \"pkl\"\n",
    "      },\n",
    "      {\"task\": \"generate_movie\",\n",
    "       \"type\": \"hexagonal_plot\",                                               # choose plot type (here: Hexagonal)\n",
    "       \"parameters\":  {},                                  \n",
    "       \"settings\": {\"movie_path\": hexagonal_movie_path_gif} \n",
    "      },\n",
    "      {\"task\": \"generate_movie\",\n",
    "       \"type\": \"scatter_boxplot_plot\",                                         # choose plot type (here: Scatter Boxplot)\n",
    "       \"parameters\":  {},                                  \n",
    "       \"settings\": {\"movie_path\": scatter_boxplot_movie_path_gif} \n",
    "      }\n",
    "    ]\n",
    "  }\n",
    "}\n",
    "\n",
    "# write-out of configuration file\n",
    "configuration_JSON_path = os.path.join(output_dir, \"chemcharts_config_movies.json\")\n",
    "with open(configuration_JSON_path, 'w') as f:\n",
    "    json.dump(conf, f, indent=4, sort_keys=True)\n",
    "    \n",
    "#execution\n",
    "!{chemcharts_env}/bin/python {chemcharts_dir}/chemcharts_json.py -conf {configuration_JSON_path}\n",
    "\n",
    "# display hexagonal movie\n",
    "Image(filename=hexagonal_movie_path_gif, width=600, height=300)                # with width and height you can alternate the displayed image size     \n"
   ]
  },
  {
   "cell_type": "code",
   "execution_count": null,
   "id": "tender-remark",
   "metadata": {},
   "outputs": [],
   "source": [
    "# display scatter_boxplot movie\n",
    "Image(filename=scatter_boxplot_movie_path_gif, width=600, height=300)               \n"
   ]
  },
  {
   "cell_type": "markdown",
   "id": "qualified-conservation",
   "metadata": {},
   "source": [
    "## MOVIE VARIANTS\n",
    "ChemCharts can generate multiple movie variants, please find them below: "
   ]
  },
  {
   "cell_type": "code",
   "execution_count": null,
   "id": "pediatric-negative",
   "metadata": {},
   "outputs": [],
   "source": [
    "    # Scatter Static\n",
    "      scatter_static_movie_path = os.path.join(output_dir, \"scatter_static_movie\", \"scatter_static_movie.mp4\")\n",
    "\n",
    "      {\"task\": \"generate_movie\",\n",
    "       \"type\": \"scatter_static_plot\",                                # choose plot type (here: Scatter Static)\n",
    "       \"parameters\":  {},                                  \n",
    "       \"settings\": {\"movie_path\": scatter_static_movie_path} \n",
    "      } \n",
    "       \n",
    "        \n",
    "    # Trisurf Static\n",
    "      trisurf_static_movie_path = os.path.join(output_dir, \"trisurf_static_movie\", \"trisurf_static_movie.mp4\")\n",
    "\n",
    "      {\"task\": \"generate_movie\",\n",
    "       \"type\": \"trisurf_static_plot\",                                # choose plot type (here: Trisurf Static)\n",
    "       \"parameters\":  {},                                  \n",
    "       \"settings\": {\"movie_path\": trisurf_static_movie_path} \n",
    "      } \n"
   ]
  }
 ],
 "metadata": {
  "kernelspec": {
   "display_name": "Python 3",
   "language": "python",
   "name": "python3"
  },
  "language_info": {
   "codemirror_mode": {
    "name": "ipython",
    "version": 3
   },
   "file_extension": ".py",
   "mimetype": "text/x-python",
   "name": "python",
   "nbconvert_exporter": "python",
   "pygments_lexer": "ipython3",
   "version": "3.7.9"
  }
 },
 "nbformat": 4,
 "nbformat_minor": 5
}
