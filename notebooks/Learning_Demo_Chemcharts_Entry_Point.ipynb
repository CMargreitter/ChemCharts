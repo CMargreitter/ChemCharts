{
 "cells": [
  {
   "cell_type": "markdown",
   "id": "hourly-hostel",
   "metadata": {},
   "source": [
    "# ChemCharts Entry Point "
   ]
  },
  {
   "cell_type": "markdown",
   "id": "monetary-stranger",
   "metadata": {},
   "source": [
    "## Preparation\n",
    "To use ChemCharts in your console start with the following steps:"
   ]
  },
  {
   "cell_type": "code",
   "execution_count": null,
   "id": "owned-potter",
   "metadata": {},
   "outputs": [],
   "source": [
    "# activate ChemCharts\n",
    "conda activate chemcharts\n",
    "\n",
    "# export paths\n",
    "export PYTHONPATH=/home/nutzer/Dokumente/Projects/chemcharts:$PYTHONPATH"
   ]
  },
  {
   "cell_type": "markdown",
   "id": "respective-malawi",
   "metadata": {},
   "source": [
    "## Execution\n",
    "In order to execute the program two parameters are obligatory: input (data set) and output (path)"
   ]
  },
  {
   "cell_type": "code",
   "execution_count": null,
   "id": "boolean-alpha",
   "metadata": {},
   "outputs": [],
   "source": [
    "chemcharts.py      # program name\n",
    "\n",
    "-input_data        # Path to input csv file (Caution: Here only one input dataset is possible - \n",
    "                   # for multiple input data please use the JSON version)  \n",
    "                   # type=str    \n",
    "                   # required\n",
    "        \n",
    "-output_plot       # Path to output plot file \n",
    "                   # type=str   \n",
    "                   # required\n",
    "\n",
    "-output_movie      # Path to output movie \n",
    "                   # type=str               \n",
    "                   # default=None"
   ]
  },
  {
   "cell_type": "markdown",
   "id": "touched-bowling",
   "metadata": {},
   "source": [
    "There are additional arguments available:"
   ]
  },
  {
   "cell_type": "code",
   "execution_count": null,
   "id": "smart-child",
   "metadata": {},
   "outputs": [],
   "source": [
    "-dataset_name      # Name your dataset \n",
    "                   # type=str               \n",
    "                   # default=None\n",
    "                   \n",
    "    \n",
    "-save_data         # Path to output processed ChemData object \n",
    "                   # type=str               \n",
    "                   # default=None\n",
    "\n",
    "-k                 # Number of clusters for KMeans\n",
    "                   # type=int\n",
    "                   # default = 10\n",
    "                   \n",
    "\n",
    "-plot              # Choose a plot type:\n",
    "                            # scatter_static_plot\n",
    "                            # scatter_boxplot_plot\n",
    "                            # scatter_interactive_plot\n",
    "                            # histogram_plot (no movie function possible)\n",
    "                            # trisurf_static_plot\n",
    "                            # trisurf_interactive_plot (no movie function possible)\n",
    "                            # hexagonal_plot \n",
    "                   # type=str\n",
    "                   # default = hexagonal_plot\n",
    "                   \n",
    "                    \n",
    "-view              # Choose view setting 'True' or 'False' (default=\"False\")\n",
    "                   # type=bool\n",
    "                   # default = False\n",
    "                   \n",
    "                    \n",
    "-data              # Choose the data set:\n",
    "                             # filtered_data\n",
    "                             # clustered_data\n",
    "                             # filtered_clustered_data\n",
    "                             # original_data (no filtering or clustering)\n",
    "                   # type=str\n",
    "                   # default = origional_data\n",
    "                   \n",
    "    \n",
    "-binning           # Choose the amount of bins\n",
    "                   # type=int\n",
    "                   # default = None\n",
    "                   "
   ]
  },
  {
   "cell_type": "markdown",
   "id": "collective-county",
   "metadata": {},
   "source": [
    "## Examples"
   ]
  },
  {
   "cell_type": "code",
   "execution_count": null,
   "id": "tested-catalyst",
   "metadata": {},
   "outputs": [],
   "source": [
    "# generates a movie for hexagonal plot (default) generation\n",
    "python chemcharts.py -input_data data/scaffold_memory.csv   \n",
    "                     -output_plot test.png \n",
    "                     -output_movie /home/nutzer/Documents/Projects/ChemCharts/output_movie/movie.mp4   \n",
    "\n",
    "# generates a scatter_interactive_plot     \n",
    "python chemcharts.py -input_data data/scaffold_memory.csv         \n",
    "                     -output_plot test.png \n",
    "                     -plot scatter_interactive_plot \n",
    "                     -view True\n",
    "            \n",
    "# generates a scatter_boxplot_plot with 5 KMeans and 200 bins    \n",
    "python chemcharts.py -input_data test.pkl \n",
    "                     -output_plot test.png \n",
    "                     -plot scatter_boxplot_plot  \n",
    "                     -k 5 \n",
    "                     -binning 200"
   ]
  },
  {
   "cell_type": "markdown",
   "id": "proper-contemporary",
   "metadata": {},
   "source": [
    "### Note \n",
    "For large data sets it might be advisable to save the generated data in a pkl file."
   ]
  },
  {
   "cell_type": "code",
   "execution_count": null,
   "id": "secret-honey",
   "metadata": {},
   "outputs": [],
   "source": [
    "# generates a hexagonal plot (default) and saves the data in a pkl file\n",
    "python chemcharts.py -input_data data/scaffold_memory.csv           \n",
    "                     -save_data test.pkl                            \n",
    "                     -output_plot test.png   "
   ]
  },
  {
   "cell_type": "markdown",
   "id": "neither-genesis",
   "metadata": {},
   "source": [
    "For the following runs data can be accessed from the pkl file and does not need to be generated repeatedly."
   ]
  },
  {
   "cell_type": "code",
   "execution_count": null,
   "id": "sought-pursuit",
   "metadata": {},
   "outputs": [],
   "source": [
    "# accesses data from pkl file and generates a scatter_static_plot\n",
    "python chemcharts.py -input_data test.pkl \n",
    "                     -output_plot test.png\n",
    "                     -plot scatter_static_plot"
   ]
  },
  {
   "cell_type": "markdown",
   "id": "focused-crawford",
   "metadata": {},
   "source": [
    "## JSON Entry Point"
   ]
  },
  {
   "cell_type": "markdown",
   "id": "alien-drink",
   "metadata": {},
   "source": [
    "To run a ```JSON``` entry point only a single argument is required:"
   ]
  },
  {
   "cell_type": "code",
   "execution_count": null,
   "id": "featured-sally",
   "metadata": {},
   "outputs": [],
   "source": [
    "-conf                 # Path to JSON configuration file\n",
    "                      # type=str \n",
    "                      # required"
   ]
  }
 ],
 "metadata": {
  "kernelspec": {
   "display_name": "Python 3",
   "language": "python",
   "name": "python3"
  },
  "language_info": {
   "codemirror_mode": {
    "name": "ipython",
    "version": 3
   },
   "file_extension": ".py",
   "mimetype": "text/x-python",
   "name": "python",
   "nbconvert_exporter": "python",
   "pygments_lexer": "ipython3",
   "version": "3.7.9"
  }
 },
 "nbformat": 4,
 "nbformat_minor": 5
}
